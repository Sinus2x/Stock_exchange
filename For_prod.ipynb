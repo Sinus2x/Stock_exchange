{
 "cells": [
  {
   "cell_type": "markdown",
   "metadata": {},
   "source": [
    "# Финальный код"
   ]
  },
  {
   "cell_type": "code",
   "execution_count": 85,
   "metadata": {},
   "outputs": [],
   "source": [
    "import pandas as pd\n",
    "import numpy as np\n",
    "import matplotlib.pyplot as plt\n",
    "import seaborn as sns"
   ]
  },
  {
   "cell_type": "code",
   "execution_count": 86,
   "metadata": {},
   "outputs": [],
   "source": [
    "from sklearn.neighbors import KNeighborsClassifier\n",
    "from sklearn.pipeline import Pipeline\n",
    "from sklearn.preprocessing import StandardScaler, MinMaxScaler\n",
    "from sklearn.metrics import roc_auc_score, precision_score, recall_score\n",
    "from sklearn.model_selection import cross_val_score\n",
    "from sklearn.model_selection import train_test_split\n",
    "from sklearn.metrics import accuracy_score\n",
    "from sklearn.metrics import precision_recall_fscore_support, make_scorer, f1_score\n",
    "from sklearn.model_selection import GridSearchCV\n",
    "from sklearn.compose import ColumnTransformer\n",
    "from sklearn.preprocessing import OneHotEncoder\n",
    "from sklearn.tree import DecisionTreeClassifier\n",
    "from sklearn.ensemble import RandomForestClassifier"
   ]
  },
  {
   "cell_type": "code",
   "execution_count": 87,
   "metadata": {},
   "outputs": [],
   "source": [
    "def classification(new, gain, desc):\n",
    "    \"\"\"'new': dataset for classification\n",
    "        gain: profit(%)\n",
    "        desc: fall(%)\"\"\"\n",
    "    new.loc[:, 'timeframe']=pd.to_datetime(new['timeframe'])\n",
    "    new.loc[:, 'dayofweek']=new['timeframe'].apply(lambda x: x.dayofweek)\n",
    "    new.loc[:, 'hour']=new['timeframe'].apply(lambda x: x.hour)\n",
    "    new.loc[:, 'minute']=new['timeframe'].apply(lambda x: x.minute)\n",
    "    new.loc[:, 'buy']=pd.Series(np.zeros(len(new))).astype(int)\n",
    "    \n",
    "    n=len(new)\n",
    "    for i in range(n-25):\n",
    "        price=(new['close'][i])*(1+gain/100) #1.03*цена закрытия\n",
    "        fall=(new['close'][i])*(1-desc/100)\n",
    "        switches=new['close'].iloc[i+1: i+25]#следующие 24 свечи\n",
    "        increase=np.any(switches>price) and np.all(switches>=fall)#цена закрытия у хотя бы одной из этих свеч \n",
    "                                                             #выше price и падение не больше, чем на 1%\n",
    "        if (increase):\n",
    "            new.loc[i, 'buy']=1#берем, если так\n",
    "            \n",
    "    new.drop(index=range(n-25, n), inplace=True)\n",
    "    new.loc[:, 'buy']=new['buy'].astype(int)\n",
    "    new=new[new['timeframe'].apply(lambda x: (x.year==2021)|((x.year==2020)&(x.month==12)))]\n",
    "    new.drop(['timeframe', 'minute'], axis=1, inplace=True)\n",
    "    return new"
   ]
  },
  {
   "cell_type": "code",
   "execution_count": 88,
   "metadata": {},
   "outputs": [],
   "source": [
    "def make_candle(openn, high, low, close, volume, kst, rsi, atr, cci, roc, dayofweek, hour):\n",
    "    feats=[openn, high, low, close, volume, kst, rsi,atr, cci, roc, dayofweek, hour]\n",
    "    names=['open', 'high', 'low', 'close', 'volume', 'kst', 'rsi', 'atr', 'cci', 'roc', 'dayofweek', 'hour']\n",
    "    candle=pd.DataFrame(dict(zip(names, feats)), index=[0])\n",
    "    return candle"
   ]
  },
  {
   "cell_type": "code",
   "execution_count": 89,
   "metadata": {},
   "outputs": [],
   "source": [
    "new=pd.read_csv(\"btcFULL.csv\",sep='\\t')#тут читаем файл с данными, нужно следить за разделителем \n",
    "                                      #(параметр sep): на винде у меня почеему-то таблица разделяется по \\t, на убунту - по запятой\n",
    "new.drop('Unnamed: 0', axis=1, inplace=True) #убираю колонку с индексом"
   ]
  },
  {
   "cell_type": "code",
   "execution_count": 90,
   "metadata": {},
   "outputs": [
    {
     "name": "stderr",
     "output_type": "stream",
     "text": [
      "C:\\Users\\hatin\\anaconda3\\lib\\site-packages\\pandas\\core\\frame.py:4163: SettingWithCopyWarning: \n",
      "A value is trying to be set on a copy of a slice from a DataFrame\n",
      "\n",
      "See the caveats in the documentation: https://pandas.pydata.org/pandas-docs/stable/user_guide/indexing.html#returning-a-view-versus-a-copy\n",
      "  return super().drop(\n"
     ]
    }
   ],
   "source": [
    "dataset=classification(new, 3, 1) #вытаскиваю нужные значения времени (часы, дни недели - с ними создаю колонки) из timeframe,  \n",
    "                                #классифицирую, вытаскиваю данные за 3 месяца, убираю колонку timeframe"
   ]
  },
  {
   "cell_type": "code",
   "execution_count": 91,
   "metadata": {},
   "outputs": [
    {
     "data": {
      "text/plain": [
       "open         float64\n",
       "high         float64\n",
       "low          float64\n",
       "close        float64\n",
       "volume       float64\n",
       "kst          float64\n",
       "rsi          float64\n",
       "atr          float64\n",
       "cci          float64\n",
       "roc          float64\n",
       "dayofweek      int64\n",
       "hour           int64\n",
       "buy            int32\n",
       "dtype: object"
      ]
     },
     "execution_count": 91,
     "metadata": {},
     "output_type": "execute_result"
    }
   ],
   "source": [
    "dataset.dtypes"
   ]
  },
  {
   "cell_type": "code",
   "execution_count": 92,
   "metadata": {},
   "outputs": [
    {
     "data": {
      "text/plain": [
       "0    23842\n",
       "1     1191\n",
       "Name: buy, dtype: int64"
      ]
     },
     "execution_count": 92,
     "metadata": {},
     "output_type": "execute_result"
    }
   ],
   "source": [
    "dataset['buy'].value_counts()"
   ]
  },
  {
   "cell_type": "code",
   "execution_count": 93,
   "metadata": {},
   "outputs": [],
   "source": [
    "X_train, X_test, y_train, y_test=train_test_split(dataset.drop('buy', axis=1),dataset['buy'],train_size=0.8,random_state=17)"
   ]
  },
  {
   "cell_type": "code",
   "execution_count": 94,
   "metadata": {},
   "outputs": [],
   "source": [
    "features=['open', 'high', 'low', 'close', 'volume', 'kst', 'rsi', 'atr', 'cci', 'roc']#числовые признаки"
   ]
  },
  {
   "cell_type": "code",
   "execution_count": 95,
   "metadata": {},
   "outputs": [],
   "source": [
    "transformer=ColumnTransformer([('ohe', OneHotEncoder(),['hour', 'dayofweek']),\\\n",
    "                        ('scale', MinMaxScaler(), features)])"
   ]
  },
  {
   "cell_type": "code",
   "execution_count": 96,
   "metadata": {},
   "outputs": [],
   "source": [
    "final = Pipeline([('transform', transformer), ('knn', KNeighborsClassifier(n_neighbors=19 ,p=1, weights='distance'))])"
   ]
  },
  {
   "cell_type": "code",
   "execution_count": 97,
   "metadata": {},
   "outputs": [
    {
     "data": {
      "text/plain": [
       "Pipeline(steps=[('transform',\n",
       "                 ColumnTransformer(transformers=[('ohe', OneHotEncoder(),\n",
       "                                                  ['hour', 'dayofweek']),\n",
       "                                                 ('scale', MinMaxScaler(),\n",
       "                                                  ['open', 'high', 'low',\n",
       "                                                   'close', 'volume', 'kst',\n",
       "                                                   'rsi', 'atr', 'cci',\n",
       "                                                   'roc'])])),\n",
       "                ('knn',\n",
       "                 KNeighborsClassifier(n_neighbors=19, p=1,\n",
       "                                      weights='distance'))])"
      ]
     },
     "execution_count": 97,
     "metadata": {},
     "output_type": "execute_result"
    }
   ],
   "source": [
    "final.fit(X_train, y_train)#обучились"
   ]
  },
  {
   "cell_type": "code",
   "execution_count": 98,
   "metadata": {},
   "outputs": [
    {
     "data": {
      "text/plain": [
       "array([1])"
      ]
     },
     "execution_count": 98,
     "metadata": {},
     "output_type": "execute_result"
    }
   ],
   "source": [
    "\"\"\"предикт для какой-нибудь одной положительной свечи\"\"\"\n",
    "final.predict(X_train[y_train==1].iloc[0:1])"
   ]
  },
  {
   "cell_type": "code",
   "execution_count": 101,
   "metadata": {},
   "outputs": [],
   "source": [
    "\"\"\"делаем свечу\"\"\"\n",
    "candle=make_candle(20.56,20.56,20.56,20.56,20,20.56,20.56,20.56,20.56,20.56,5.0,12.0)"
   ]
  },
  {
   "cell_type": "code",
   "execution_count": 102,
   "metadata": {},
   "outputs": [
    {
     "data": {
      "text/plain": [
       "array([0])"
      ]
     },
     "execution_count": 102,
     "metadata": {},
     "output_type": "execute_result"
    }
   ],
   "source": [
    "final.predict(candle)#не ругается на флотовые dayofweek и hour"
   ]
  },
  {
   "cell_type": "code",
   "execution_count": 103,
   "metadata": {},
   "outputs": [
    {
     "data": {
      "text/plain": [
       "array([0])"
      ]
     },
     "execution_count": 103,
     "metadata": {},
     "output_type": "execute_result"
    }
   ],
   "source": [
    "\"\"\"делаем свечу\"\"\"\n",
    "candle=make_candle(20.56,20.56,20.56,20.56,20,20.56,20.56,20.56,20.56,20.56,5,12)#интовые (как и в принципе должно быть) \n",
    "                                                                                #dayofweek и hour\n",
    "final.predict(candle)   "
   ]
  }
 ],
 "metadata": {
  "kernelspec": {
   "display_name": "Python 3",
   "language": "python",
   "name": "python3"
  },
  "language_info": {
   "codemirror_mode": {
    "name": "ipython",
    "version": 3
   },
   "file_extension": ".py",
   "mimetype": "text/x-python",
   "name": "python",
   "nbconvert_exporter": "python",
   "pygments_lexer": "ipython3",
   "version": "3.8.5"
  }
 },
 "nbformat": 4,
 "nbformat_minor": 4
}
